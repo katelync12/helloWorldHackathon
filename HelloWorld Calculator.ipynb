{
 "cells": [
  {
   "cell_type": "code",
   "execution_count": 4,
   "id": "0a29394c",
   "metadata": {},
   "outputs": [
    {
     "name": "stdout",
     "output_type": "stream",
     "text": [
      "Please adhere to this syntax when entering functions: \n",
      "sin(x) ---> sin(x)\n",
      "cos(x) ---> cos(x)\n",
      "tan(x) ---> tan(x)\n",
      "sin inverse ---> arcsin(x)\n",
      "cos inverse ---> arccos(x)\n",
      "tan inverse ---> arctan(x)\n",
      "sinh(x) ---> sinh(x)\n",
      "cosh(x) ---> cosh(x)\n",
      "tanh(x) ---> tanh(x)\n",
      "arcsinh(x) ---> arcsinh(x)\n",
      "arccosh(x) ---> arccosh(x)\n",
      "arctanh(x) ---> arctanh(x)\n",
      "ln(x) ---> log(x)\n",
      "log(x) (base 10) ---> log10(x)\n",
      "e^x --> exp(x)\n",
      "|x| ---> abs(x)\n",
      "Please enter a one-dimensional function using x as the independent variable: sin(x)\n",
      "Please enter a lower bound for x: 1\n",
      "Plase enter an upper bound for x: 3\n"
     ]
    },
    {
     "data": {
      "text/plain": [
       "[<matplotlib.lines.Line2D at 0x20ef8e8bf70>]"
      ]
     },
     "execution_count": 4,
     "metadata": {},
     "output_type": "execute_result"
    },
    {
     "data": {
      "image/png": "[encoded data removed]",
      "text/plain": [
       "<Figure size 432x288 with 1 Axes>"
      ]
     },
     "metadata": {
      "needs_background": "light"
     },
     "output_type": "display_data"
    }
   ],
   "source": [
    "# Imports Libraries\n",
    "import numexpr as ne\n",
    "import numpy as np\n",
    "import matplotlib.pyplot as plt\n",
    "\n",
    "# Creates a welcome message for the user\n",
    "print(\"Welcome to the math calculator!\")\n",
    "print(\"This calculator allows you to graph, take the derivative, and integrate one dimensional functions.\")\n",
    "\n",
    "# displays information on how to enter functions\n",
    "print(\"Please adhere to this syntax when entering functions: \")\n",
    "print(\"sin(x) ---> sin(x)\") # sin function\n",
    "print(\"cos(x) ---> cos(x)\") # cos function\n",
    "print(\"tan(x) ---> tan(x)\") # tan function\n",
    "print(\"sin inverse ---> arcsin(x)\") # inverse sin\n",
    "print(\"cos inverse ---> arccos(x)\") # inverse cos\n",
    "print(\"tan inverse ---> arctan(x)\") # inverse tan\n",
    "print(\"sinh(x) ---> sinh(x)\") # sinh\n",
    "print(\"cosh(x) ---> cosh(x)\") # cosh\n",
    "print(\"tanh(x) ---> tanh(x)\") # tanh\n",
    "print(\"arcsinh(x) ---> arcsinh(x)\") # inverse sinh\n",
    "print(\"arccosh(x) ---> arccosh(x)\") # inverse cosh\n",
    "print(\"arctanh(x) ---> arctanh(x)\") # inverse tanh\n",
    "print(\"ln(x) ---> log(x)\") # natural log\n",
    "print(\"log(x) (base 10) ---> log10(x)\") # base 10 log\n",
    "print(\"e^x --> exp(x)\") # e^x function\n",
    "print(\"|x| ---> abs(x)\") # absolute value function\n",
    "function = input(\"Please enter a one-dimensional function using x as the independent variable: \") # takes in input as a string\n",
    "lower_x = float(input(\"Please enter a lower bound for x: \"))\n",
    "upper_x = float(input(\"Plase enter an upper bound for x: \"))\n",
    "a = np.linspace(lower_x, upper_x, 10000) #generates array with 10000 evenly spaced numbers between bounds\n",
    "evaluated_function = ne.evaluate(function.replace(\"x\",\"a\")) #\"plugs\" in bounds into function (evaluates it)\n",
    "plt.plot(a,evaluated_function) # plots the function\n",
    "plt.plot(np.gradient(evaluated_function,a)) # plots derivative of function\n",
    "#a = np.mean(y[(x >= 4) * (x <= 7)])\n",
    "#b = np.std(y[(x >= 4) * (x <= 7)])\n",
    "#c = np.percentile(y[(x >= 4) * (x <= 7)], 80)\n",
    "#print(a)\n",
    "#print(b)\n",
    "#print(c)\n",
    "#plt.plot(np.gradient(y,x))\n",
    "#plt.plot(np.cumsum(y)*x[1]-x[0])"
   ]
  },
  {
   "cell_type": "code",
   "execution_count": 25,
   "id": "00a29978",
   "metadata": {},
   "outputs": [
    {
     "data": {
      "text/plain": [
       "32147142"
      ]
     },
     "execution_count": 25,
     "metadata": {},
     "output_type": "execute_result"
    }
   ],
   "source": [
    "#2 \n",
    "nums = np.arange(0,10001)\n",
    "sum(nums[(nums %4 != 0) * (nums %7 != 0)])"
   ]
  },
  {
   "cell_type": "code",
   "execution_count": 48,
   "id": "e936c825",
   "metadata": {},
   "outputs": [
    {
     "name": "stdout",
     "output_type": "stream",
     "text": [
      "4.025197003652634\n",
      "11.625143180659908\n"
     ]
    },
    {
     "data": {
      "image/png": "[encoded data removed]",
      "text/plain": [
       "<Figure size 432x288 with 1 Axes>"
      ]
     },
     "metadata": {
      "needs_background": "light"
     },
     "output_type": "display_data"
    }
   ],
   "source": [
    "#3\n",
    "def r(t):\n",
    "    return 1 + 3/4 * np.sin(3*t)\n",
    "\n",
    "t = np.linspace(0,2*np.pi, 100000)\n",
    "x = r(t)*np.cos(t)\n",
    "y = r(t)*np.sin(t)\n",
    "plt.plot(x,y)\n",
    "A = 1/2 * sum(r(t)**2) * (t[1] - t[0])\n",
    "print(A)\n",
    "L = sum(np.sqrt(r(t)**2 + np.gradient(r(t),t)**2)) * t[1] - t[0]\n",
    "print(L)"
   ]
  },
  {
   "cell_type": "code",
   "execution_count": null,
   "id": "7bae9653",
   "metadata": {},
   "outputs": [],
   "source": [
    "\n"
   ]
  }
 ],
 "metadata": {
  "kernelspec": {
   "display_name": "Python 3 (ipykernel)",
   "language": "python",
   "name": "python3"
  },
  "language_info": {
   "codemirror_mode": {
    "name": "ipython",
    "version": 3
   },
   "file_extension": ".py",
   "mimetype": "text/x-python",
   "name": "python",
   "nbconvert_exporter": "python",
   "pygments_lexer": "ipython3",
   "version": "3.9.8"
  }
 },
 "nbformat": 4,
 "nbformat_minor": 5
}
